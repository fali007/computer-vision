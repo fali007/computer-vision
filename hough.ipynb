{
 "cells": [
  {
   "cell_type": "code",
   "execution_count": 1,
   "metadata": {},
   "outputs": [],
   "source": [
    "import cv2\n",
    "import numpy as np"
   ]
  },
  {
   "cell_type": "code",
   "execution_count": null,
   "metadata": {},
   "outputs": [],
   "source": [
    "cap = cv2.VideoCapture('vid.mp4')\n",
    "if (cap.isOpened() == False):\n",
    "\n",
    "while (cap.isOpened()):\n",
    "    ret, frame = cap.read()\n",
    "    if ret == True:\n",
    "        gray = cv2.cvtColor(frame, cv2.COLOR_BGR2GRAY)\n",
    "        gray_blurred = cv2.blur(gray, (3, 3))\n",
    "        detected_circles = cv2.HoughCircles(gray_blurred,\n",
    "                                            cv2.HOUGH_GRADIENT, 1, 20, param1=50,\n",
    "                                            param2=30, minRadius=1, maxRadius=40)\n",
    "\n",
    "        if detected_circles is not None:\n",
    "            detected_circles = np.uint16(np.around(detected_circles))\n",
    "            for pt in detected_circles[0, :]:\n",
    "                a, b, r = pt[0], pt[1], pt[2]\n",
    "                cv2.circle(frame, (a, b), r, (0, 255, 0), 2)\n",
    "                cv2.circle(frame, (a, b), 1, (0, 0, 255), 3)\n",
    "        cv2.imshow('Frame', frame)\n",
    "        if cv2.waitKey(25) & 0xFF == ord('q'):\n",
    "            break;\n",
    "    else:\n",
    "        break\n",
    "\n",
    "\n",
    "cap.release()\n",
    "cv2.destroyAllWindows()"
   ]
  },
  {
   "cell_type": "code",
   "execution_count": null,
   "metadata": {},
   "outputs": [],
   "source": []
  },
  {
   "cell_type": "code",
   "execution_count": null,
   "metadata": {},
   "outputs": [],
   "source": []
  }
 ],
 "metadata": {
  "kernelspec": {
   "display_name": "Python 3",
   "language": "python",
   "name": "python3"
  },
  "language_info": {
   "codemirror_mode": {
    "name": "ipython",
    "version": 3
   },
   "file_extension": ".py",
   "mimetype": "text/x-python",
   "name": "python",
   "nbconvert_exporter": "python",
   "pygments_lexer": "ipython3",
   "version": "3.7.4"
  }
 },
 "nbformat": 4,
 "nbformat_minor": 2
}
